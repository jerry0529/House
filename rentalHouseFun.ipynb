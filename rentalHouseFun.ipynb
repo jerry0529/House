{
 "cells": [
  {
   "cell_type": "code",
   "execution_count": 1,
   "metadata": {
    "collapsed": true
   },
   "outputs": [],
   "source": [
    "from bs4 import BeautifulSoup\n",
    "import requests\n",
    "import json\n",
    "import pprint\n",
    "import time\n",
    "import re\n",
    "import sqlite3\n",
    "from datetime import datetime\n",
    "import random\n",
    "import sys\n",
    "from PyQt5 import *\n",
    "import selenium\n",
    "import selenium.webdriver.support.ui as ui\n",
    "from selenium import webdriver\n",
    "from selenium.webdriver.common.by import By\n",
    "from selenium.webdriver.support.ui import WebDriverWait\n",
    "from selenium.webdriver.support import expected_conditions as EC\n",
    "import os"
   ]
  },
  {
   "cell_type": "code",
   "execution_count": 7,
   "metadata": {},
   "outputs": [
    {
     "name": "stdout",
     "output_type": "stream",
     "text": [
      "https://rent.housefun.com.tw/rent/house/1289526/\n",
      "https://rent.housefun.com.tw/rent/house/1272060/\n",
      " Find Honey Can!!!  ERROR : Message: element not visible\n",
      "  (Session info: chrome=59.0.3071.86)\n",
      "  (Driver info: chromedriver=2.27.440175 (9bc1d90b8bfa4dd181fbbf769a5eb5e575574320),platform=Linux 4.8.0-36-generic x86_64)\n",
      "\n",
      "https://rent.housefun.com.tw/rent/house/1271981/\n",
      "https://rent.housefun.com.tw/rent/house/1244312/\n",
      "https://rent.housefun.com.tw/rent/house/1093096/\n",
      "https://rent.housefun.com.tw/rent/house/1292947/\n",
      "https://rent.housefun.com.tw/rent/house/1156268/\n",
      "https://rent.housefun.com.tw/rent/house/1178676/\n",
      "https://rent.housefun.com.tw/rent/house/949343/\n",
      "https://rent.housefun.com.tw/rent/house/1293001/\n"
     ]
    }
   ],
   "source": [
    "houseHomePage = 'https://rent.housefun.com.tw/region/%E5%8F%B0%E5%8C%97%E5%B8%82/?cid=0000'\n",
    "HOST = 'https://rent.housefun.com.tw'\n",
    "\n",
    "chrome_options = webdriver.ChromeOptions()\n",
    "prefs = {'profile.default_content_setting_values.notifications':2}\n",
    "chrome_options.add_experimental_option('prefs',prefs)\n",
    "web = webdriver.Chrome(chrome_options = chrome_options)\n",
    "web.get(houseHomePage)\n",
    "#web.maximize_window()\n",
    "#***********************************************************************************************************\n",
    "#指定控制權到現在的頁面\n",
    "main_handle = web.current_window_handle\n",
    "\n",
    "#***********************************************************************************************************\n",
    "#進入網頁後等待,跟sleep不同,條件是找到ID：SearchContent後,若超過10秒則TimeOutException\n",
    "#http://selenium-python.readthedocs.io/waits.html\n",
    "wait = ui.WebDriverWait(web, 60)\n",
    "wait.until(EC.presence_of_element_located((By.ID, \"SearchContent\")))\n",
    "\n",
    "soup = BeautifulSoup(web.page_source, 'lxml')\n",
    "href = soup.select('#SearchContent > article > div > h3 > a')\n",
    "\n",
    "n = 0\n",
    "for i in range(1, len(href)+1):\n",
    "    \n",
    "    try:\n",
    "        time.sleep(1)  \n",
    "        #css的選擇器\n",
    "        web.find_element_by_css_selector('#SearchContent > article:nth-child({}) > div.Data > h3 > a'.format(i)).click()       \n",
    "        #指定控制權在所有的分頁\n",
    "        all_handles = web.window_handles\n",
    "        \n",
    "        for handle in all_handles:\n",
    "            #判斷控制權是否在（外網，這裡要切換到內網的控制權）\n",
    "            if handle != main_handle:\n",
    "                #切換控制權\n",
    "                web.switch_to_window(handle)\n",
    "                #設定timeout時間\n",
    "                wait = ui.WebDriverWait(web, 600)\n",
    "                #等到ID出來才繼續行動\n",
    "                wait.until(EC.presence_of_element_located((By.ID, \"divDes\")))\n",
    "            \n",
    "                #selhref = soup.select('#SearchContent > article > div > h3 > a')[i]['href']\n",
    "                #selhref = HOST + selhref\n",
    "                #print(selhref)\n",
    "\n",
    "                print(web.current_url)\n",
    "                \n",
    "                time.sleep(1)\n",
    "                #web.close()\n",
    "                web.quite()\n",
    "        \n",
    "        web.switch_to_window(main_handle)\n",
    "        wait = ui.WebDriverWait(web, 60)\n",
    "        wait.until(EC.presence_of_element_located((By.ID, \"SearchContent\")))\n",
    "        #滾動滑鼠（起始位置，結束位置）\n",
    "        web.execute_script(\"window.scrollTo({}, {} + 150);\".format(n, n))\n",
    "        n += 150\n",
    "        #web.back()\n",
    "        #web.get(houseHomePage)\n",
    "        #web.close()\n",
    "        \n",
    "    except Exception as e:\n",
    "        print(' Find Honey Can!!!  ERROR : ' + str(e))\n",
    "        #print(str(e))\n",
    "        web.execute_script(\"window.scrollTo({}, {} + 150);\".format(n, n))\n",
    "        n += 150\n",
    "\n",
    "#print(href)"
   ]
  },
  {
   "cell_type": "code",
   "execution_count": 8,
   "metadata": {
    "collapsed": true
   },
   "outputs": [],
   "source": [
    "houseHomePage = 'https://rent.housefun.com.tw/region/%E5%8F%B0%E5%8C%97%E5%B8%82/?cid=0000'\n",
    "HOST = 'https://rent.housefun.com.tw'\n",
    "n = 0\n",
    "\n",
    "chrome_options = webdriver.ChromeOptions()\n",
    "prefs = {'profile.default_content_setting_values.notifications':2}\n",
    "chrome_options.add_experimental_option('prefs',prefs)\n",
    "web = webdriver.Chrome(chrome_options = chrome_options)\n",
    "web.get(houseHomePage)\n",
    "#web.maximize_wn = 0\n",
    "for i in range(1, len(href)+1):\n",
    "    \n",
    "    try:\n",
    "        time.sleep(1)        \n",
    "        web.find_element_by_css_selector('#SearchContent > article:nth-child({}) > div.Data > h3 > a'.format(i)).click()       \n",
    "        all_handles = web.window_handles\n",
    "        \n",
    "        for handle in all_handles:\n",
    "            if handle != main_handle:\n",
    "                \n",
    "                web.switch_to_window(handle)\n",
    "                wait = ui.WebDriverWait(web, 100)\n",
    "                wait.until(EC.presence_of_element_located((By.ID, \"divDes\")))\n",
    "            \n",
    "                selhref = soup.select('#SearchContent > article > div > h3 > a')[i]['href']\n",
    "                selhref = HOST + selhref\n",
    "                print(selhref)\n",
    "\n",
    "                time.sleep(1)\n",
    "                web.close()\n",
    "        \n",
    "        web.switch_to_window(main_handle)\n",
    "        wait = ui.WebDriverWait(web, 10)\n",
    "        wait.until(EC.presence_of_element_located((By.ID, \"SearchContent\")))\n",
    "        web.execute_script(\"window.scrollTo({}, {} + 150);\".format(n, n))\n",
    "        n += 150\n",
    "        #web.back()\n",
    "        #web.get(houseHomePage)\n",
    "        #web.close()\n",
    "        \n",
    "    except Exception as e:\n",
    "        print(' Find Honey Can!!!' + str(e))\n",
    "        print(str(e))\n",
    "\n",
    "#print(href)indow()\n",
    "main_handle = web.current_window_handle\n",
    "\n",
    "#***********************************************************************************************************\n",
    "#進入網頁後等待,跟sleep不同,條件是找到ID：SearchContent後,若超過10秒則TimeOutException\n",
    "#http://selenium-python.readthedocs.io/waits.html\n",
    "wait = ui.WebDriverWait(web, 10)\n",
    "wait.until(EC.presence_of_element_located((By.ID, \"SearchContent\")))\n",
    "\n",
    "soup = BeautifulSoup(web.page_source, 'lxml')\n",
    "href = soup.select('#SearchContent > article > div > h3 > a')\n",
    "\n",
    "for i in range(1, len(href)+1):\n",
    "    web.execute_script(\"window.scrollTo({}, {} + 150);\".format(n, n))\n",
    "    n += 150\n",
    "    time.sleep(1)"
   ]
  },
  {
   "cell_type": "code",
   "execution_count": null,
   "metadata": {
    "collapsed": true
   },
   "outputs": [],
   "source": []
  },
  {
   "cell_type": "code",
   "execution_count": 11,
   "metadata": {},
   "outputs": [
    {
     "name": "stdout",
     "output_type": "stream",
     "text": [
      "11\n"
     ]
    }
   ],
   "source": [
    "print(len(href))"
   ]
  },
  {
   "cell_type": "code",
   "execution_count": null,
   "metadata": {
    "scrolled": true
   },
   "outputs": [
    {
     "name": "stdout",
     "output_type": "stream",
     "text": [
      "https://rent.housefun.com.tw/rent/house/1109069/\n",
      "https://rent.housefun.com.tw/rent/house/1106351/\n",
      "https://rent.housefun.com.tw/rent/house/1106318/\n",
      "https://rent.housefun.com.tw/rent/house/1106311/\n",
      "https://rent.housefun.com.tw/rent/house/1091817/\n",
      "https://rent.housefun.com.tw/rent/house/1120/\n",
      " Find Honey Can!!!Message: element not visible\n",
      "  (Session info: chrome=59.0.3071.86)\n",
      "  (Driver info: chromedriver=2.27.440175 (9bc1d90b8bfa4dd181fbbf769a5eb5e575574320),platform=Linux 4.8.0-36-generic x86_64)\n",
      "\n",
      "Message: element not visible\n",
      "  (Session info: chrome=59.0.3071.86)\n",
      "  (Driver info: chromedriver=2.27.440175 (9bc1d90b8bfa4dd181fbbf769a5eb5e575574320),platform=Linux 4.8.0-36-generic x86_64)\n",
      "\n"
     ]
    }
   ],
   "source": [
    "houseHomePage = 'https://rent.housefun.com.tw/region/%E5%8F%B0%E5%8C%97%E5%B8%82/?cid=0000'\n",
    "HOST = 'https://rent.housefun.com.tw'\n",
    "\n",
    "chrome_options = webdriver.ChromeOptions()\n",
    "prefs = {'profile.default_content_setting_values.notifications':2}\n",
    "chrome_options.add_experimental_option('prefs',prefs)\n",
    "web = webdriver.Chrome(chrome_options = chrome_options)\n",
    "web.get(houseHomePage)\n",
    "#web.maximize_window()\n",
    "main_handle = web.current_window_handle\n",
    "\n",
    "#***********************************************************************************************************\n",
    "#進入網頁後等待,跟sleep不同,條件是找到ID：SearchContent後,若超過10秒則TimeOutException\n",
    "#http://selenium-python.readthedocs.io/waits.html\n",
    "wait = ui.WebDriverWait(web, 10)\n",
    "wait.until(EC.presence_of_element_located((By.ID, \"SearchContent\")))\n",
    "\n",
    "soup = BeautifulSoup(web.page_source, 'lxml')\n",
    "href = soup.select('#SearchContent > article > div > h3 > a')\n",
    "\n",
    "n = 0\n",
    "for i in range(1, len(href)+1):\n",
    "    \n",
    "    try:\n",
    "        time.sleep(1)        \n",
    "        web.find_element_by_css_selector('#SearchContent > article:nth-child({}) > div.Data > h3 > a'.format(i)).click()       \n",
    "        all_handles = web.window_handles\n",
    "        \n",
    "        for handle in all_handles:\n",
    "            if handle != main_handle:\n",
    "                \n",
    "                web.switch_to_window(handle)\n",
    "                wait = ui.WebDriverWait(web, 100)\n",
    "                wait.until(EC.presence_of_element_located((By.ID, \"divDes\")))\n",
    "            \n",
    "                selhref = soup.select('#SearchContent > article > div > h3 > a')[i]['href']\n",
    "                selhref = HOST + selhref\n",
    "                print(selhref)\n",
    "\n",
    "                time.sleep(1)\n",
    "                web.close()\n",
    "        \n",
    "        web.switch_to_window(main_handle)\n",
    "        wait = ui.WebDriverWait(web, 10)\n",
    "        wait.until(EC.presence_of_element_located((By.ID, \"SearchContent\")))\n",
    "        web.execute_script(\"window.scrollTo({}, {} + 150);\".format(n, n))\n",
    "        n += 150\n",
    "        #web.back()\n",
    "        #web.get(houseHomePage)\n",
    "        #web.close()\n",
    "        \n",
    "    except Exception as e:\n",
    "        print(' Find Honey Can!!!' + str(e))\n",
    "        print(str(e))\n",
    "\n",
    "#print(href)"
   ]
  },
  {
   "cell_type": "code",
   "execution_count": null,
   "metadata": {
    "collapsed": true
   },
   "outputs": [],
   "source": [
    "#soup = BeautifulSoup(web.page_source, 'lxml')\n",
    "#href = soup.select('#SearchContent > article > div > h3 > a')\n",
    "#href\n"
   ]
  },
  {
   "cell_type": "code",
   "execution_count": 19,
   "metadata": {
    "collapsed": true,
    "scrolled": true
   },
   "outputs": [],
   "source": [
    "#soup.find_all('div',class_='m-pagination')"
   ]
  },
  {
   "cell_type": "code",
   "execution_count": 5,
   "metadata": {
    "collapsed": true
   },
   "outputs": [],
   "source": [
    "#web.find_element_by_css_selector('#SearchContent > article:nth-child(1) > div.Data > h3 > a').click()"
   ]
  },
  {
   "cell_type": "code",
   "execution_count": 39,
   "metadata": {},
   "outputs": [
    {
     "name": "stdout",
     "output_type": "stream",
     "text": [
      "https://rent.housefun.com.tw/rent/house/1292968/ Find Honey Can!!!\n",
      "https://rent.housefun.com.tw/rent/house/1277078/ Find Honey Can!!!\n",
      "https://rent.housefun.com.tw/rent/house/1292991/ Find Honey Can!!!\n",
      "https://rent.housefun.com.tw/rent/house/1292986/ Find Honey Can!!!\n",
      "https://rent.housefun.com.tw/rent/house/1120/ Find Honey Can!!!\n",
      "https://rent.housefun.com.tw/rent/house/1247028/ Find Honey Can!!!\n",
      "https://rent.housefun.com.tw/rent/house/1224838/ Find Honey Can!!!\n",
      "https://rent.housefun.com.tw/rent/house/1292413/ Find Honey Can!!!\n",
      "https://rent.housefun.com.tw/rent/house/1287488/ Find Honey Can!!!\n",
      "https://rent.housefun.com.tw/rent/house/1286149/ Find Honey Can!!!\n",
      "https://rent.housefun.com.tw/rent/house/1284099/ Find Honey Can!!!\n"
     ]
    }
   ],
   "source": [
    "for i in range(0, len(href)):\n",
    "    try:\n",
    "        web.find_elements_by_css_selector('#SearchContent > article:nth-child{} > div.Data > h3 > a'.format(i)).click()\n",
    "        selhref = soup.select('#SearchContent > article > div > h3 > a')[i]['href']\n",
    "        selhref = HOST + selhref\n",
    "        print(selhref)\n",
    "    except:\n",
    "        selhref = soup.select('#SearchContent > article > div > h3 > a')[i]['href']\n",
    "        selhref = HOST + selhref\n",
    "        print(selhref + ' Find Honey Can!!!')"
   ]
  },
  {
   "cell_type": "code",
   "execution_count": 40,
   "metadata": {
    "collapsed": true
   },
   "outputs": [],
   "source": [
    "web.find_element_by_css_selector('#SearchContent > article:nth-child(1) > div.Data > h3 > a').click()"
   ]
  },
  {
   "cell_type": "code",
   "execution_count": null,
   "metadata": {
    "collapsed": true
   },
   "outputs": [],
   "source": []
  },
  {
   "cell_type": "code",
   "execution_count": 23,
   "metadata": {},
   "outputs": [
    {
     "name": "stdout",
     "output_type": "stream",
     "text": [
      "https://rent.housefun.com.tw/rent/house/1292342/\n",
      "https://rent.housefun.com.tw/rent/house/1120/\n",
      "https://rent.housefun.com.tw/rent/house/1291915/\n",
      "https://rent.housefun.com.tw/rent/house/987794/\n",
      "https://rent.housefun.com.tw/rent/house/957581/\n",
      "https://rent.housefun.com.tw/rent/house/1292601/\n",
      "https://rent.housefun.com.tw/rent/house/1292600/\n",
      "https://rent.housefun.com.tw/rent/house/1292595/\n",
      "https://rent.housefun.com.tw/rent/house/1291186/\n",
      "https://rent.housefun.com.tw/rent/house/1225795/\n",
      "https://rent.housefun.com.tw/rent/house/1009094/\n"
     ]
    }
   ],
   "source": [
    "#href = soup.select('#SearchContent > article > div > h3 > a')\n",
    "#for i in range(0, len(href)):\n",
    "    #selhref = soup.select('#SearchContent > article > div > h3 > a')[i]['href']\n",
    "    #selhref = HOST + selhref\n",
    "    #print(selhref)"
   ]
  },
  {
   "cell_type": "code",
   "execution_count": null,
   "metadata": {
    "collapsed": true
   },
   "outputs": [],
   "source": []
  },
  {
   "cell_type": "code",
   "execution_count": null,
   "metadata": {
    "collapsed": true
   },
   "outputs": [],
   "source": []
  },
  {
   "cell_type": "code",
   "execution_count": null,
   "metadata": {
    "collapsed": true
   },
   "outputs": [],
   "source": []
  }
 ],
 "metadata": {
  "kernelspec": {
   "display_name": "Python 3",
   "language": "python",
   "name": "python3"
  },
  "language_info": {
   "codemirror_mode": {
    "name": "ipython",
    "version": 3
   },
   "file_extension": ".py",
   "mimetype": "text/x-python",
   "name": "python",
   "nbconvert_exporter": "python",
   "pygments_lexer": "ipython3",
   "version": "3.5.2"
  }
 },
 "nbformat": 4,
 "nbformat_minor": 2
}
